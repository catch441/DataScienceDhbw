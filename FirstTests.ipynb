{
 "cells": [
  {
   "cell_type": "code",
   "execution_count": 5,
   "metadata": {
    "scrolled": false
   },
   "outputs": [
    {
     "data": {
      "text/plain": [
       "[4.7,\n",
       " 4.5,\n",
       " 4.9,\n",
       " 4.0,\n",
       " 4.6,\n",
       " 4.5,\n",
       " 4.7,\n",
       " 3.3,\n",
       " 4.6,\n",
       " 3.9,\n",
       " 3.5,\n",
       " 4.2,\n",
       " 4.0,\n",
       " 4.7,\n",
       " 3.6,\n",
       " 4.4,\n",
       " 4.5,\n",
       " 4.1,\n",
       " 4.5,\n",
       " 3.9,\n",
       " 4.8,\n",
       " 4.0,\n",
       " 4.9,\n",
       " 4.7,\n",
       " 4.3,\n",
       " 4.4,\n",
       " 4.8,\n",
       " 5.0,\n",
       " 4.5,\n",
       " 3.5,\n",
       " 3.8,\n",
       " 3.7,\n",
       " 3.9,\n",
       " 5.1,\n",
       " 4.5,\n",
       " 4.5,\n",
       " 4.7,\n",
       " 4.4,\n",
       " 4.1,\n",
       " 4.0,\n",
       " 4.4,\n",
       " 4.6,\n",
       " 4.0,\n",
       " 3.3,\n",
       " 4.2,\n",
       " 4.2,\n",
       " 4.2,\n",
       " 4.3,\n",
       " 3.0,\n",
       " 4.1]"
      ]
     },
     "execution_count": 5,
     "metadata": {},
     "output_type": "execute_result"
    }
   ],
   "source": [
    "from dfply import *\n",
    "from sklearn.datasets import load_iris\n",
    "iris = load_iris()\n",
    "irist_art = 'versicolor'\n",
    "attribute_name = 'petal length (cm)'\n",
    "iris\n",
    "idx = iris.target_names.tolist().index(irist_art)\n",
    "target_list = iris.target.tolist()\n",
    "indices = [i for i, x in enumerate(target_list) if x == idx]\n",
    "','.join([str(i) for i in indices])\n",
    "iris_data = iris.data.tolist()\n",
    "irist_data_for_art = [ iris_data[i] for i in indices ]\n",
    "irist_data_for_art\n",
    "attribute_index = iris.feature_names.index(attribute_name)\n",
    "def column(matrix, i):\n",
    "    return [row[i] for row in matrix]\n",
    "\n",
    "irist_data_for_art_and_attribute = column(irist_data_for_art, attribute_index)\n",
    "irist_data_for_art_and_attribute"
   ]
  },
  {
   "cell_type": "code",
   "execution_count": 7,
   "metadata": {},
   "outputs": [
    {
     "data": {
      "image/png": "[encoded data removed]",
      "text/plain": [
       "<Figure size 432x288 with 1 Axes>"
      ]
     },
     "metadata": {},
     "output_type": "display_data"
    }
   ],
   "source": [
    "import matplotlib.pyplot as plt\n",
    "import seaborn as sns\n",
    "\n",
    "# Set default Seaborn style\n",
    "sns.set()\n",
    "\n",
    "# Compute number of data points: n_data\n",
    "n_data = len(irist_data_for_art_and_attribute)\n",
    "\n",
    "# Number of bins is the square root of number of data points or use bins destribution by default just not calc it: n_bins\n",
    "n_bins = np.sqrt(n_data)\n",
    "\n",
    "# Convert number of bins to integer: n_bins\n",
    "n_bins = int(n_bins)\n",
    "\n",
    "# Plot the histogram\n",
    "_ = plt.hist(irist_data_for_art_and_attribute, bins=n_bins)\n",
    "\n",
    "# Label axes\n",
    "_ = plt.xlabel('petal length (cm)')\n",
    "_ = plt.ylabel('count')\n",
    "\n",
    "# Show histogram\n",
    "plt.show()"
   ]
  },
  {
   "cell_type": "code",
   "execution_count": null,
   "metadata": {},
   "outputs": [],
   "source": []
  }
 ],
 "metadata": {
  "kernelspec": {
   "display_name": "Python 3",
   "language": "python",
   "name": "python3"
  },
  "language_info": {
   "codemirror_mode": {
    "name": "ipython",
    "version": 3
   },
   "file_extension": ".py",
   "mimetype": "text/x-python",
   "name": "python",
   "nbconvert_exporter": "python",
   "pygments_lexer": "ipython3",
   "version": "3.8.6"
  }
 },
 "nbformat": 4,
 "nbformat_minor": 4
}
